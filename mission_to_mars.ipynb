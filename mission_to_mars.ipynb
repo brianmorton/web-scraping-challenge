{
 "cells": [
  {
   "cell_type": "code",
   "execution_count": 1,
   "metadata": {},
   "outputs": [],
   "source": [
    "#imports\n",
    "import pandas as pd\n",
    "import os\n",
    "import requests\n",
    "from bs4 import BeautifulSoup as bs\n",
    "from splinter import Browser\n",
    "from webdriver_manager.chrome import ChromeDriverManager\n"
   ]
  },
  {
   "cell_type": "code",
   "execution_count": 11,
   "metadata": {},
   "outputs": [],
   "source": [
    "#Part 1\n",
    "#soup set up\n",
    "\n",
    "url1 = 'https://mars.nasa.gov/news/'\n",
    "html = requests.get(url1).text\n",
    "soup = bs(html, 'html.parser')\n"
   ]
  },
  {
   "cell_type": "code",
   "execution_count": 12,
   "metadata": {},
   "outputs": [
    {
     "name": "stdout",
     "output_type": "stream",
     "text": [
      "NASA Ingenuity Mars Helicopter Prepares for First Flight\n",
      "Now uncocooned from its protective carbon-fiber shield, the helicopter is being readied for its next steps.\n"
     ]
    }
   ],
   "source": [
    "#part 1 Section 1\n",
    "#first news story headline variable storage\n",
    "\n",
    "newstitle = soup.find(class_ = \"content_title\" ).text.strip()\n",
    "print(newstitle)\n",
    "\n",
    "#first news story description variable storage\n",
    "newsdescription = soup.find(class_ = 'rollover_description_inner')\n",
    "newsdescription = newsdescription.text.strip()\n",
    "print(newsdescription)\n"
   ]
  },
  {
   "cell_type": "code",
   "execution_count": 21,
   "metadata": {},
   "outputs": [
    {
     "name": "stderr",
     "output_type": "stream",
     "text": [
      "[WDM] - ====== WebDriver manager ======\n",
      "[WDM] - Current google-chrome version is 89.0.4389\n",
      "[WDM] - Get LATEST driver version for 89.0.4389\n"
     ]
    },
    {
     "name": "stdout",
     "output_type": "stream",
     "text": [
      "\n",
      "\n"
     ]
    },
    {
     "name": "stderr",
     "output_type": "stream",
     "text": [
      "[WDM] - Driver [C:\\Users\\Brian Morton.000\\.wdm\\drivers\\chromedriver\\win32\\89.0.4389.23\\chromedriver.exe] found in cache\n"
     ]
    },
    {
     "name": "stdout",
     "output_type": "stream",
     "text": [
      "image/featured/mars3.jpg\n",
      "featured_image_url print:  https://data-class-jpl-space.s3.amazonaws.com/JPL_Space/image/featured/mars3.jpg\n"
     ]
    }
   ],
   "source": [
    "#Part 1 Section 2\n",
    "# Setup splinter\n",
    "executable_path = {'executable_path': ChromeDriverManager().install()}\n",
    "browser = Browser('chrome', **executable_path, headless=False)\n",
    "featured = 'https://data-class-jpl-space.s3.amazonaws.com/JPL_Space/'\n",
    "#Launch splinter and click in\n",
    "url2 = 'https://data-class-jpl-space.s3.amazonaws.com/JPL_Space/index.html'\n",
    "\n",
    "browser.visit(url2)\n",
    "browser.links.find_by_partial_text('FULL IMAGE').click()\n",
    "\n",
    "#b-soup request object                             \n",
    "html = browser.html\n",
    "\n",
    "#pass request object\n",
    "souptest = bs(html, 'lxml')\n",
    "\n",
    "#insert div class to search\n",
    "ref = souptest.find(class_ = 'fancybox-image')['src']\n",
    "\n",
    "\n",
    "featured_image_url = featured + ref\n",
    "\n",
    "\n",
    "print('featured_image_url print: ', featured_image_url)\n",
    "\n",
    "\n",
    "\n",
    "# tag: fancybox-image, fancybox-skin, fancybox-inner\n",
    "#featured_image_url = souptest.find(class_ = 'headerimage')['src']\n",
    "\n",
    "#close browser object\n",
    "browser.quit()"
   ]
  },
  {
   "cell_type": "code",
   "execution_count": 9,
   "metadata": {},
   "outputs": [
    {
     "name": "stdout",
     "output_type": "stream",
     "text": [
      "[]\n"
     ]
    },
    {
     "data": {
      "text/plain": [
       "'i'"
      ]
     },
     "execution_count": 9,
     "metadata": {},
     "output_type": "execute_result"
    }
   ],
   "source": [
    "\n"
   ]
  },
  {
   "cell_type": "code",
   "execution_count": 13,
   "metadata": {},
   "outputs": [
    {
     "data": {
      "text/plain": [
       "'<table border=\"1\" class=\"dataframe\">\\n  <thead>\\n    <tr style=\"text-align: right;\">\\n      <th></th>\\n      <th>Mars - Earth Comparison</th>\\n      <th>Mars</th>\\n    </tr>\\n  </thead>\\n  <tbody>\\n    <tr>\\n      <th>0</th>\\n      <td>Diameter:</td>\\n      <td>6,779 km</td>\\n    </tr>\\n    <tr>\\n      <th>1</th>\\n      <td>Mass:</td>\\n      <td>6.39 × 10^23 kg</td>\\n    </tr>\\n    <tr>\\n      <th>2</th>\\n      <td>Moons:</td>\\n      <td>2</td>\\n    </tr>\\n    <tr>\\n      <th>3</th>\\n      <td>Distance from Sun:</td>\\n      <td>227,943,824 km</td>\\n    </tr>\\n    <tr>\\n      <th>4</th>\\n      <td>Length of Year:</td>\\n      <td>687 Earth days</td>\\n    </tr>\\n    <tr>\\n      <th>5</th>\\n      <td>Temperature:</td>\\n      <td>-87 to -5 °C</td>\\n    </tr>\\n  </tbody>\\n</table>'"
      ]
     },
     "execution_count": 13,
     "metadata": {},
     "output_type": "execute_result"
    }
   ],
   "source": [
    "#Part 1 Section 3\n",
    "\n",
    "### Mars Facts\n",
    "url3 = 'https://space-facts.com/mars/'\n",
    "\n",
    "read = pd.read_html(url3)\n",
    "\n",
    "dftable = read[1]\n",
    "\n",
    "dftable = dftable.drop(['Earth'], axis=1)\n",
    "dftable\n",
    "# Use Pandas to convert the data to a HTML table string.\n",
    "html_table = dftable.to_html()\n",
    "html_table"
   ]
  },
  {
   "cell_type": "code",
   "execution_count": 18,
   "metadata": {},
   "outputs": [
    {
     "name": "stdout",
     "output_type": "stream",
     "text": [
      "Cerberus Hemisphere Enhanced\n",
      "Schiaparelli Hemisphere Enhanced\n",
      "Syrtis Major Hemisphere Enhanced\n",
      "Valles Marineris Hemisphere Enhanced\n"
     ]
    }
   ],
   "source": [
    "#Part 1 Section 4\n",
    "\n",
    "### Mars Hemispheres\n",
    "\n",
    "#* Visit the USGS Astrogeology site [here](https://astrogeology.usgs.gov/search/results?q=hemisphere+enhanced&k1=target&v1=Mars) \n",
    "#to obtain high resolution images for each of Mar's hemispheres.\n",
    "\n",
    "#b-soup to pull titles from images\n",
    "url4 = 'https://astrogeology.usgs.gov/search/results?q=hemisphere+enhanced&k1=target&v1=Mars'\n",
    "html = requests.get(url4).text\n",
    "soup3 = bs(html, 'html.parser')\n",
    "          \n",
    "hemindex = soup3.find_all('h3')\n",
    "\n",
    "Cerebus_title = hemindex[0].text.strip()\n",
    "print(Cerebus_title)\n",
    "\n",
    "\n",
    "Schiaparelli_title = hemindex[1].text.strip()\n",
    "print (Schiaparelli_title)\n",
    "\n",
    "\n",
    "Syrtis_Major_title = hemindex[2].text.strip()\n",
    "print (Syrtis_Major_title)\n",
    "\n",
    "\n",
    "Valles_Marineris_title = hemindex[3].text.strip()\n",
    "print (Valles_Marineris_title)\n"
   ]
  },
  {
   "cell_type": "code",
   "execution_count": 27,
   "metadata": {},
   "outputs": [
    {
     "name": "stderr",
     "output_type": "stream",
     "text": [
      "[WDM] - ====== WebDriver manager ======\n",
      "[WDM] - Current google-chrome version is 89.0.4389\n",
      "[WDM] - Get LATEST driver version for 89.0.4389\n"
     ]
    },
    {
     "name": "stdout",
     "output_type": "stream",
     "text": [
      "\n",
      "\n"
     ]
    },
    {
     "name": "stderr",
     "output_type": "stream",
     "text": [
      "[WDM] - Driver [C:\\Users\\Brian Morton.000\\.wdm\\drivers\\chromedriver\\win32\\89.0.4389.23\\chromedriver.exe] found in cache\n"
     ]
    },
    {
     "ename": "KeyError",
     "evalue": "'href'",
     "output_type": "error",
     "traceback": [
      "\u001b[1;31m---------------------------------------------------------------------------\u001b[0m",
      "\u001b[1;31mKeyError\u001b[0m                                  Traceback (most recent call last)",
      "\u001b[1;32m<ipython-input-27-853351ad2ba1>\u001b[0m in \u001b[0;36m<module>\u001b[1;34m\u001b[0m\n\u001b[0;32m     19\u001b[0m \u001b[1;33m\u001b[0m\u001b[0m\n\u001b[0;32m     20\u001b[0m                     \u001b[1;31m#element to search for\u001b[0m\u001b[1;33m\u001b[0m\u001b[1;33m\u001b[0m\u001b[1;33m\u001b[0m\u001b[0m\n\u001b[1;32m---> 21\u001b[1;33m \u001b[0mCerebus_url\u001b[0m \u001b[1;33m=\u001b[0m \u001b[0msoupurl\u001b[0m\u001b[1;33m.\u001b[0m\u001b[0mfind\u001b[0m\u001b[1;33m(\u001b[0m\u001b[0mclass_\u001b[0m \u001b[1;33m=\u001b[0m \u001b[1;34m'thumb'\u001b[0m\u001b[1;33m)\u001b[0m\u001b[1;33m[\u001b[0m\u001b[1;34m'href'\u001b[0m\u001b[1;33m]\u001b[0m\u001b[1;33m\u001b[0m\u001b[1;33m\u001b[0m\u001b[0m\n\u001b[0m\u001b[0;32m     22\u001b[0m \u001b[1;33m\u001b[0m\u001b[0m\n\u001b[0;32m     23\u001b[0m \u001b[1;33m\u001b[0m\u001b[0m\n",
      "\u001b[1;32m~\\anaconda3\\envs\\PythonData\\lib\\site-packages\\bs4\\element.py\u001b[0m in \u001b[0;36m__getitem__\u001b[1;34m(self, key)\u001b[0m\n\u001b[0;32m   1404\u001b[0m         \"\"\"tag[key] returns the value of the 'key' attribute for the Tag,\n\u001b[0;32m   1405\u001b[0m         and throws an exception if it's not there.\"\"\"\n\u001b[1;32m-> 1406\u001b[1;33m         \u001b[1;32mreturn\u001b[0m \u001b[0mself\u001b[0m\u001b[1;33m.\u001b[0m\u001b[0mattrs\u001b[0m\u001b[1;33m[\u001b[0m\u001b[0mkey\u001b[0m\u001b[1;33m]\u001b[0m\u001b[1;33m\u001b[0m\u001b[1;33m\u001b[0m\u001b[0m\n\u001b[0m\u001b[0;32m   1407\u001b[0m \u001b[1;33m\u001b[0m\u001b[0m\n\u001b[0;32m   1408\u001b[0m     \u001b[1;32mdef\u001b[0m \u001b[0m__iter__\u001b[0m\u001b[1;33m(\u001b[0m\u001b[0mself\u001b[0m\u001b[1;33m)\u001b[0m\u001b[1;33m:\u001b[0m\u001b[1;33m\u001b[0m\u001b[1;33m\u001b[0m\u001b[0m\n",
      "\u001b[1;31mKeyError\u001b[0m: 'href'"
     ]
    }
   ],
   "source": [
    "#Splinter portion section 4\n",
    "executable_path = {'executable_path': ChromeDriverManager().install()}\n",
    "browser = Browser('chrome', **executable_path, headless=False)\n",
    "url4 = 'https://astrogeology.usgs.gov/search/results?q=hemisphere+enhanced&k1=target&v1=Mars'\n",
    "\n",
    "\n",
    "browser.visit(url4)\n",
    "browser.links.find_by_partial_text('Cerberus ').click()\n",
    "#browser.links.find_by_partial_text('Sample').click()\n",
    "\n",
    "#b-soup request object                             \n",
    "html = browser.html\n",
    "\n",
    "#pass request object\n",
    "soupurl = bs(html, 'lxml')\n",
    "\n",
    "                    #element to search for\n",
    "Cerebus_url = soupurl.find(class_ = 'thumb')['href']\n",
    "\n",
    "\n",
    "\n",
    "#close browser object\n",
    "browser.quit()\n",
    "\n",
    "\n",
    "print(Cerebus_url)    \n"
   ]
  },
  {
   "cell_type": "code",
   "execution_count": null,
   "metadata": {},
   "outputs": [],
   "source": [
    "browser.visit(url4)\n",
    "browser.links.find_by_partial_text('Schiaparelli ').click()\n",
    "#browser.links.find_by_partial_text('Sample').click()\n",
    "\n",
    "#b-soup request object                             \n",
    "html = browser.html\n",
    "\n",
    "#pass request object\n",
    "soupurl = bs(html, 'lxml')\n",
    "\n",
    "                    #element to search for\n",
    "Schiaparelli_url = soupurl.find(class_ = 'thumb')['href']\n",
    "\n",
    "\n",
    "\n",
    "#close browser object\n",
    "browser.quit()\n",
    "\n",
    "\n",
    "print(Cerebus_url)    \n"
   ]
  },
  {
   "cell_type": "code",
   "execution_count": null,
   "metadata": {},
   "outputs": [],
   "source": [
    "browser.visit(url4)\n",
    "browser.links.find_by_partial_text('Syrtis Major ').click()\n",
    "#browser.links.find_by_partial_text('Sample').click()\n",
    "\n",
    "#b-soup request object                             \n",
    "html = browser.html\n",
    "\n",
    "#pass request object\n",
    "soupurl = bs(html, 'lxml')\n",
    "\n",
    "                    #element to search for\n",
    "Syrtis_url = soupurl.find(class_ = 'thumb')['href']\n",
    "\n",
    "\n",
    "\n",
    "#close browser object\n",
    "browser.quit()\n",
    "\n",
    "\n",
    "print(Cerebus_url)    \n"
   ]
  },
  {
   "cell_type": "code",
   "execution_count": null,
   "metadata": {},
   "outputs": [],
   "source": [
    "browser.visit(url4)\n",
    "browser.links.find_by_partial_text('Valles Marineris ').click()\n",
    "#browser.links.find_by_partial_text('Sample').click()\n",
    "\n",
    "#b-soup request object                             \n",
    "html = browser.html\n",
    "\n",
    "#pass request object\n",
    "soupurl = bs(html, 'lxml')\n",
    "\n",
    "                    #element to search for\n",
    "Valles_url = soupurl.find(class_ = 'thumb')['href']\n",
    "\n",
    "\n",
    "\n",
    "#close browser object\n",
    "browser.quit()\n",
    "\n",
    "\n",
    "print(Cerebus_url)    \n"
   ]
  },
  {
   "cell_type": "code",
   "execution_count": 26,
   "metadata": {},
   "outputs": [
    {
     "ename": "NameError",
     "evalue": "name 'Cerebus_title' is not defined",
     "output_type": "error",
     "traceback": [
      "\u001b[1;31m---------------------------------------------------------------------------\u001b[0m",
      "\u001b[1;31mNameError\u001b[0m                                 Traceback (most recent call last)",
      "\u001b[1;32m<ipython-input-26-ad07c1355a2b>\u001b[0m in \u001b[0;36m<module>\u001b[1;34m\u001b[0m\n\u001b[0;32m      8\u001b[0m \u001b[1;31m#append above variables to list with dict object\u001b[0m\u001b[1;33m\u001b[0m\u001b[1;33m\u001b[0m\u001b[1;33m\u001b[0m\u001b[0m\n\u001b[0;32m      9\u001b[0m \u001b[0mhemisphere_image_urls\u001b[0m \u001b[1;33m=\u001b[0m \u001b[1;33m[\u001b[0m\u001b[1;33m]\u001b[0m\u001b[1;33m\u001b[0m\u001b[1;33m\u001b[0m\u001b[0m\n\u001b[1;32m---> 10\u001b[1;33m \u001b[0mhemisphere_image_urls\u001b[0m\u001b[1;33m.\u001b[0m\u001b[0mappend\u001b[0m\u001b[1;33m(\u001b[0m\u001b[1;33m{\u001b[0m\u001b[1;34m'\"title\"'\u001b[0m\u001b[1;33m:\u001b[0m\u001b[0mCerebus_title\u001b[0m\u001b[1;33m,\u001b[0m \u001b[1;34m'img_url'\u001b[0m\u001b[1;33m:\u001b[0m\u001b[0mCerebus_url\u001b[0m\u001b[1;33m}\u001b[0m\u001b[1;33m)\u001b[0m\u001b[1;33m\u001b[0m\u001b[1;33m\u001b[0m\u001b[0m\n\u001b[0m\u001b[0;32m     11\u001b[0m \u001b[0mhemisphere_image_urls\u001b[0m\u001b[1;33m.\u001b[0m\u001b[0mappend\u001b[0m\u001b[1;33m(\u001b[0m\u001b[1;33m{\u001b[0m\u001b[1;34m'\"title\"'\u001b[0m\u001b[1;33m:\u001b[0m\u001b[0mSchiaparelli_title\u001b[0m\u001b[1;33m,\u001b[0m \u001b[1;34m'img_url'\u001b[0m\u001b[1;33m:\u001b[0m\u001b[0mSchiaparelli_url\u001b[0m\u001b[1;33m}\u001b[0m\u001b[1;33m)\u001b[0m\u001b[1;33m\u001b[0m\u001b[1;33m\u001b[0m\u001b[0m\n\u001b[0;32m     12\u001b[0m \u001b[0mhemisphere_image_urls\u001b[0m\u001b[1;33m.\u001b[0m\u001b[0mappend\u001b[0m\u001b[1;33m(\u001b[0m\u001b[1;33m{\u001b[0m\u001b[1;34m'\"title\"'\u001b[0m\u001b[1;33m:\u001b[0m\u001b[0mSyrtis_Major_title\u001b[0m\u001b[1;33m,\u001b[0m \u001b[1;34m'img_url'\u001b[0m\u001b[1;33m:\u001b[0m\u001b[0mSyrtis_url\u001b[0m\u001b[1;33m}\u001b[0m\u001b[1;33m)\u001b[0m\u001b[1;33m\u001b[0m\u001b[1;33m\u001b[0m\u001b[0m\n",
      "\u001b[1;31mNameError\u001b[0m: name 'Cerebus_title' is not defined"
     ]
    }
   ],
   "source": [
    "###############hardcoded urls placeholders###############\n",
    "Cerebus_url = 'https://astropedia.astrogeology.usgs.gov/download/Mars/Viking/cerberus_enhanced.tif/full.jpg'\n",
    "Schiaparelli_url = 'https://astropedia.astrogeology.usgs.gov/download/Mars/Viking/schiaparelli_enhanced.tif/full.jpg'\n",
    "Syrtis_url =  'https://astropedia.astrogeology.usgs.gov/download/Mars/Viking/syrtis_major_enhanced.tif/full.jpg'\n",
    "Valles_url =   'https://astropedia.astrogeology.usgs.gov/download/Mars/Viking/valles_marineris_enhanced.tif/full.jpg'\n",
    "\n",
    "\n",
    "#append above variables to list with dict object\n",
    "hemisphere_image_urls = []\n",
    "hemisphere_image_urls.append({'\"title\"':Cerebus_title, 'img_url':Cerebus_url})\n",
    "hemisphere_image_urls.append({'\"title\"':Schiaparelli_title, 'img_url':Schiaparelli_url})\n",
    "hemisphere_image_urls.append({'\"title\"':Syrtis_Major_title, 'img_url':Syrtis_url})\n",
    "hemisphere_image_urls.append({'\"title\"':Valles_Marineris_title, 'img_url':Valles_url})\n"
   ]
  }
 ],
 "metadata": {
  "kernelspec": {
   "display_name": "Python [conda env:PythonData]",
   "language": "python",
   "name": "conda-env-PythonData-py"
  },
  "language_info": {
   "codemirror_mode": {
    "name": "ipython",
    "version": 3
   },
   "file_extension": ".py",
   "mimetype": "text/x-python",
   "name": "python",
   "nbconvert_exporter": "python",
   "pygments_lexer": "ipython3",
   "version": "3.6.10"
  }
 },
 "nbformat": 4,
 "nbformat_minor": 4
}